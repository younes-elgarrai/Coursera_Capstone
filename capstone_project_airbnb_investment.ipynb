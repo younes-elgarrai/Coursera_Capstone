{
    "cells": [
        {
            "metadata": {},
            "cell_type": "markdown",
            "source": "<h1 align=center><font size = 5>Airbnb Investment in Melbourne, Australia</font></h1>\n<h1 align=center><font size = 3>Smart property investment using data science and machine\u00a0learning</font></h1>\n<h1 align=center><font size = 2>Applied Data Science Capstone Project by IBM/Coursera</font></h1>\n<h1 align=center><font size = 2>19/01/2020 </font></h1>\n"
        },
        {
            "metadata": {},
            "cell_type": "markdown",
            "source": "## Table of contents\n* [Introduction : Business problem](#introduction)\n* [Data](#data)\n* [Methodology](#methodology)\n* [Analysis](#analysis)\n* [Results & Discussion](#results)\n* [Conclusion](#conclusion)"
        },
        {
            "metadata": {},
            "cell_type": "markdown",
            "source": "## Introduction : Business problem <a name=\"introduction\"></a>"
        },
        {
            "metadata": {},
            "cell_type": "markdown",
            "source": "**Airbnb** has become one of the biggest players in the world's holiday accommodation industry. It exists in **more than 65,000 cities across 190+ countries all over the world**.\n\n**Infik** published in 2019, the list of the top Airbnb cities, based on **AirDNA** database. The city of Melbourne was number 10 with 19.055 Airbnb Listings.\n\nAs the sporting and cultural capital of Australia, Melbourne has so much to offer visitors from all over the world. It is a culturally diverse city offering some of the best living standards throughout Australia.\n\nThis is where I decided to capitalize on the short-term rental demand created by Airbnb.\n\nThe study is part of 'The Battle of Neighborhoods' Coursera Applied data science capstone project. It concludes the wonderful IBM Data science Professional Certificate set of courses, which I highly recommand to anyone who is into data science and Machine Learning.\n\nMy task is to understand the revenue potential of short-term vacation in Melbourne, and explore the performance of specific neighborhoods.\u00a0\n\nThe main questions will be\u00a0:\u00a0\n\n* Are there any clusters of similar neighborhoods in Melbourne\u00a0?\n* Where should I invest ? Is there any significant relationship between cluster and housing price\u00a0?\n* What are the significant caracteristics that allow us to predict the property price\u00a0? And what confidence level do we have in our model\u00a0?\n* Are there any specific features that can help us maximize the rental revenues\u00a0?\n\nAt the end, I would like to share with ou my insights, being able, to estimate the right price versus the estimated annual rental revenue."
        },
        {
            "metadata": {},
            "cell_type": "markdown",
            "source": "## Data <a name=\"data\"></a>"
        },
        {
            "metadata": {},
            "cell_type": "markdown",
            "source": "### Melbourne Housing Market"
        },
        {
            "metadata": {},
            "cell_type": "markdown",
            "source": "**Melbourne_housing_FULL** : The dataset was taken from Kaggle. The data was scraped from publicly available results posted every week from **Domain.com.au**. It was cleaned by Tony Pino and last updated in august 2018. The dataset includes Address, Type of Real estate, Suburb, Method of Selling, Rooms, Price, Real Estate Agent, Date of Sale and distance from C.B.D.\n\nThe features are :\n* **_Suburb_**\n* **_Address_**\n* **_Rooms_**: Number of rooms\n* **_Price_**: Price in Australian dollars\n* **_Method_**: S - property sold; SP - property sold prior; PI - property passed in; PN - sold prior not disclosed; SN - sold not disclosed; NB - no bid; VB - vendor bid; W - withdrawn prior to auction; SA - sold after auction; SS - sold after auction price not disclosed. N/A - price or highest bid not available.\n* **_Type_**: br - bedroom(s); h - house,cottage,villa, semi,terrace; u - unit, duplex; t - townhouse; dev site - development site; o res - other residential.\n* **_SellerG_**: Real Estate Agent\n* **_Date_**: Date sold\n* **_Postcode_**\n* **_Distance_**: Distance from CBD in Kilometres\n* **_Regionname_**: General Region (West, North West, North, North east ...etc)\n* **_Propertycount_**: Number of properties that exist in the suburb.\n* **_Bedroom2_** : Scraped # of Bedrooms (from different source)\n* **_Bathroom_**: Number of Bathrooms\n* **_Car_**: Number of carspots\n* **_Landsize_**: Land Size in Metres\n* **_BuildingArea_**: Building Size in Metres\n* **_YearBuilt_**: Year the house was built\n* **_CouncilArea_**: Governing council for the area\n* **_Lattitude_**\n* **_Longtitude_**"
        },
        {
            "metadata": {},
            "cell_type": "markdown",
            "source": "The Melbourne Housing dataset has :\n* **34857** houses sold,\n* across **211** suburbs,\n* with an average price of : **$1050173**,\n* with **21** features"
        },
        {
            "metadata": {},
            "cell_type": "markdown",
            "source": "### Melbourne Airbnb Open Data"
        },
        {
            "metadata": {},
            "cell_type": "markdown",
            "source": "**cleansed_listings_dec18**\u00a0: The dataset was also taken from Kaggle and is originally part of Inside Airbnb. This an independent, non-commercial set of tools and data that allows you to explore how Airbnb is really being used in cities around the world.\nThe original raw csv file has eighty-four (84) columns, some of which won't be needed for analysis such as host_url, host_about, access, interaction, summary, mainly *strings* describing the listings.\n\nThe original raw csv file is quite big and has **eighty-four** (84) columns, some of which won't be needed for analysis such as host_url, host_about, access, interaction, summary, mainly strings describing the listings."
        },
        {
            "metadata": {},
            "cell_type": "markdown",
            "source": "After cleaning the dataset, keeping all relevant features, the Greater Melbourne area had:\n* **22,895** listings,\n* across **247** suburbs,\n* hosted by **14,988** hosts,\n* with an average nightly rate at **$148**.\n* with **33** features left."
        },
        {
            "metadata": {},
            "cell_type": "markdown",
            "source": "To answer the questions, I propose to generate three new features, for each listing :\n* **_occupancy_rate_**\n* **_nights_per_year_**\n* **_income_per_month_**\n\nbased on **_minimum_nights_** , **_price_**, **_number_of_reviews_**, **_first_review_** and **_last_review_**, making some assumptions described later in this project."
        },
        {
            "metadata": {},
            "cell_type": "markdown",
            "source": "### Exploring neighborhoods using Foursquare API"
        },
        {
            "metadata": {},
            "cell_type": "markdown",
            "source": "The **clustering** part of our project will be based on a list of **zip codes** extracted from both dataframes.\n\nAs you can see, the info is stored in the **_Postcode_** column in **_housing_df_** dataframe. It is stored in the **_zipcode_** column in **_airbnb_df_** dataframe.\n\nWe will use the **_airbnb_df_** zip codes, as there are more than in the **_housing_df_**. (**247** vs. **211**)."
        },
        {
            "metadata": {},
            "cell_type": "markdown",
            "source": "## Methodology <a name=\"methodology\"></a>"
        },
        {
            "metadata": {},
            "cell_type": "markdown",
            "source": "## Analysis <a name=\"analysis\"></a>"
        },
        {
            "metadata": {},
            "cell_type": "markdown",
            "source": "## Results & Discussion <a name=\"results\"></a>"
        },
        {
            "metadata": {},
            "cell_type": "markdown",
            "source": "## Conclusion <a name=\"conclusion\"></a>"
        },
        {
            "metadata": {},
            "cell_type": "markdown",
            "source": "### code"
        },
        {
            "metadata": {},
            "cell_type": "code",
            "source": "import types\nimport pandas as pd\nfrom botocore.client import Config\nimport ibm_boto3\n\ndef __iter__(self): return 0\n\n\nbody = client_b80010563ad347059cff30c3cec0a156.get_object(Bucket='airbnbinvestmentinmelbourneaustra-donotdelete-pr-u7czrdfljykae0',Key='data_asset/cleansed_listings_dec18.csv_shaped_c7ddd122.csv')['Body']\n# add missing __iter__ method, so pandas accepts body as file-like object\nif not hasattr(body, \"__iter__\"): body.__iter__ = types.MethodType( __iter__, body )\n\nairbnb_df = pd.read_csv(body)\nairbnb_df.head()",
            "execution_count": 5,
            "outputs": [
                {
                    "output_type": "execute_result",
                    "execution_count": 5,
                    "data": {
                        "text/plain": "      id                                               name  host_id  \\\n0  12936   St Kilda 1BR APT+BEACHSIDE+VIEWS+PARKING+WIFI+AC    50121   \n1  38271                 Melbourne - Old Trafford Apartment   164193   \n2  43429  Tranquil Javanese-Style Apartment in Oakleigh ...   189684   \n3  50492  St Kilda Central LUXE 2BR APT+TWO COURTYARDS+WIFI    50121   \n4  62606                               A Room Near the Park   277353   \n\n                    host_location                         street neighborhood  \\\n0  Melbourne, Victoria, Australia       St Kilda, VIC, Australia     St Kilda   \n1    Berwick, Victoria, Australia        Berwick, VIC, Australia          NaN   \n2  Melbourne, Victoria, Australia  Oakleigh East, VIC, Australia          NaN   \n3  Melbourne, Victoria, Australia       St Kilda, VIC, Australia     St Kilda   \n4  Melbourne, Victoria, Australia      Melbourne, VIC, Australia     Brighton   \n\n           city         suburb  zipcode            smart_location  ...  \\\n0  Port Phillip       St Kilda   3182.0       St Kilda, Australia  ...   \n1         Casey        Berwick   3806.0        Berwick, Australia  ...   \n2        Monash  Oakleigh East   3166.0  Oakleigh East, Australia  ...   \n3  Port Phillip       St Kilda   3182.0       St Kilda, Australia  ...   \n4       Bayside      Melbourne   3187.0      Melbourne, Australia  ...   \n\n   availability_60  availability_90 availability_365 number_of_reviews  \\\n0               26               51              326                15   \n1               27               57              328               112   \n2               25               35              310               168   \n3               22               44              316                44   \n4               23               53              328                21   \n\n   first_review  last_review  review_scores_rating  \\\n0      8/4/2010    11/7/2018                  94.0   \n1    11/24/2010    12/1/2018                  97.0   \n2     12/5/2010    12/3/2018                  97.0   \n3    11/30/2012    12/2/2018                  97.0   \n4      3/5/2011   11/29/2018                  84.0   \n\n           cancellation_policy  require_guest_phone_verification  \\\n0  strict_14_with_grace_period                                 f   \n1                     flexible                                 f   \n2                     moderate                                 f   \n3  strict_14_with_grace_period                                 f   \n4                     moderate                                 f   \n\n   reviews_per_month  \n0               0.15  \n1               1.14  \n2               1.72  \n3               0.60  \n4               0.22  \n\n[5 rows x 33 columns]",
                        "text/html": "<div>\n<style scoped>\n    .dataframe tbody tr th:only-of-type {\n        vertical-align: middle;\n    }\n\n    .dataframe tbody tr th {\n        vertical-align: top;\n    }\n\n    .dataframe thead th {\n        text-align: right;\n    }\n</style>\n<table border=\"1\" class=\"dataframe\">\n  <thead>\n    <tr style=\"text-align: right;\">\n      <th></th>\n      <th>id</th>\n      <th>name</th>\n      <th>host_id</th>\n      <th>host_location</th>\n      <th>street</th>\n      <th>neighborhood</th>\n      <th>city</th>\n      <th>suburb</th>\n      <th>zipcode</th>\n      <th>smart_location</th>\n      <th>...</th>\n      <th>availability_60</th>\n      <th>availability_90</th>\n      <th>availability_365</th>\n      <th>number_of_reviews</th>\n      <th>first_review</th>\n      <th>last_review</th>\n      <th>review_scores_rating</th>\n      <th>cancellation_policy</th>\n      <th>require_guest_phone_verification</th>\n      <th>reviews_per_month</th>\n    </tr>\n  </thead>\n  <tbody>\n    <tr>\n      <th>0</th>\n      <td>12936</td>\n      <td>St Kilda 1BR APT+BEACHSIDE+VIEWS+PARKING+WIFI+AC</td>\n      <td>50121</td>\n      <td>Melbourne, Victoria, Australia</td>\n      <td>St Kilda, VIC, Australia</td>\n      <td>St Kilda</td>\n      <td>Port Phillip</td>\n      <td>St Kilda</td>\n      <td>3182.0</td>\n      <td>St Kilda, Australia</td>\n      <td>...</td>\n      <td>26</td>\n      <td>51</td>\n      <td>326</td>\n      <td>15</td>\n      <td>8/4/2010</td>\n      <td>11/7/2018</td>\n      <td>94.0</td>\n      <td>strict_14_with_grace_period</td>\n      <td>f</td>\n      <td>0.15</td>\n    </tr>\n    <tr>\n      <th>1</th>\n      <td>38271</td>\n      <td>Melbourne - Old Trafford Apartment</td>\n      <td>164193</td>\n      <td>Berwick, Victoria, Australia</td>\n      <td>Berwick, VIC, Australia</td>\n      <td>NaN</td>\n      <td>Casey</td>\n      <td>Berwick</td>\n      <td>3806.0</td>\n      <td>Berwick, Australia</td>\n      <td>...</td>\n      <td>27</td>\n      <td>57</td>\n      <td>328</td>\n      <td>112</td>\n      <td>11/24/2010</td>\n      <td>12/1/2018</td>\n      <td>97.0</td>\n      <td>flexible</td>\n      <td>f</td>\n      <td>1.14</td>\n    </tr>\n    <tr>\n      <th>2</th>\n      <td>43429</td>\n      <td>Tranquil Javanese-Style Apartment in Oakleigh ...</td>\n      <td>189684</td>\n      <td>Melbourne, Victoria, Australia</td>\n      <td>Oakleigh East, VIC, Australia</td>\n      <td>NaN</td>\n      <td>Monash</td>\n      <td>Oakleigh East</td>\n      <td>3166.0</td>\n      <td>Oakleigh East, Australia</td>\n      <td>...</td>\n      <td>25</td>\n      <td>35</td>\n      <td>310</td>\n      <td>168</td>\n      <td>12/5/2010</td>\n      <td>12/3/2018</td>\n      <td>97.0</td>\n      <td>moderate</td>\n      <td>f</td>\n      <td>1.72</td>\n    </tr>\n    <tr>\n      <th>3</th>\n      <td>50492</td>\n      <td>St Kilda Central LUXE 2BR APT+TWO COURTYARDS+WIFI</td>\n      <td>50121</td>\n      <td>Melbourne, Victoria, Australia</td>\n      <td>St Kilda, VIC, Australia</td>\n      <td>St Kilda</td>\n      <td>Port Phillip</td>\n      <td>St Kilda</td>\n      <td>3182.0</td>\n      <td>St Kilda, Australia</td>\n      <td>...</td>\n      <td>22</td>\n      <td>44</td>\n      <td>316</td>\n      <td>44</td>\n      <td>11/30/2012</td>\n      <td>12/2/2018</td>\n      <td>97.0</td>\n      <td>strict_14_with_grace_period</td>\n      <td>f</td>\n      <td>0.60</td>\n    </tr>\n    <tr>\n      <th>4</th>\n      <td>62606</td>\n      <td>A Room Near the Park</td>\n      <td>277353</td>\n      <td>Melbourne, Victoria, Australia</td>\n      <td>Melbourne, VIC, Australia</td>\n      <td>Brighton</td>\n      <td>Bayside</td>\n      <td>Melbourne</td>\n      <td>3187.0</td>\n      <td>Melbourne, Australia</td>\n      <td>...</td>\n      <td>23</td>\n      <td>53</td>\n      <td>328</td>\n      <td>21</td>\n      <td>3/5/2011</td>\n      <td>11/29/2018</td>\n      <td>84.0</td>\n      <td>moderate</td>\n      <td>f</td>\n      <td>0.22</td>\n    </tr>\n  </tbody>\n</table>\n<p>5 rows \u00d7 33 columns</p>\n</div>"
                    },
                    "metadata": {}
                }
            ]
        },
        {
            "metadata": {},
            "cell_type": "code",
            "source": "print('Number of listings: ', airbnb_df.shape[0])\nprint('Number of features in dataset: ', airbnb_df.shape[1])\nprint('Average price at: ${}'.format(round(airbnb_df.price.mean())))\nprint('Number of hosts: ', airbnb_df.host_id.nunique())\nprint('Number of suburbs: ',airbnb_df.zipcode.nunique())",
            "execution_count": 6,
            "outputs": [
                {
                    "output_type": "stream",
                    "text": "Number of listings:  22895\nNumber of features in dataset:  33\nAverage price at: $148\nNumber of hosts:  14988\nNumber of suburbs:  247\n",
                    "name": "stdout"
                }
            ]
        },
        {
            "metadata": {},
            "cell_type": "code",
            "source": "\nbody = client_b80010563ad347059cff30c3cec0a156.get_object(Bucket='airbnbinvestmentinmelbourneaustra-donotdelete-pr-u7czrdfljykae0',Key='Melbourne_housing_FULL.csv')['Body']\n# add missing __iter__ method, so pandas accepts body as file-like object\nif not hasattr(body, \"__iter__\"): body.__iter__ = types.MethodType( __iter__, body )\n\nhousing_df = pd.read_csv(body)\nhousing_df.head()\n",
            "execution_count": 13,
            "outputs": [
                {
                    "output_type": "execute_result",
                    "execution_count": 13,
                    "data": {
                        "text/plain": "       Suburb             Address  Rooms Type      Price Method SellerG  \\\n0  Abbotsford       68 Studley St      2    h        NaN     SS  Jellis   \n1  Abbotsford        85 Turner St      2    h  1480000.0      S  Biggin   \n2  Abbotsford     25 Bloomburg St      2    h  1035000.0      S  Biggin   \n3  Abbotsford  18/659 Victoria St      3    u        NaN     VB  Rounds   \n4  Abbotsford        5 Charles St      3    h  1465000.0     SP  Biggin   \n\n        Date  Distance  Postcode  ...  Bathroom  Car  Landsize  BuildingArea  \\\n0  3/09/2016       2.5    3067.0  ...       1.0  1.0     126.0           NaN   \n1  3/12/2016       2.5    3067.0  ...       1.0  1.0     202.0           NaN   \n2  4/02/2016       2.5    3067.0  ...       1.0  0.0     156.0          79.0   \n3  4/02/2016       2.5    3067.0  ...       2.0  1.0       0.0           NaN   \n4  4/03/2017       2.5    3067.0  ...       2.0  0.0     134.0         150.0   \n\n   YearBuilt         CouncilArea Lattitude  Longtitude             Regionname  \\\n0        NaN  Yarra City Council  -37.8014    144.9958  Northern Metropolitan   \n1        NaN  Yarra City Council  -37.7996    144.9984  Northern Metropolitan   \n2     1900.0  Yarra City Council  -37.8079    144.9934  Northern Metropolitan   \n3        NaN  Yarra City Council  -37.8114    145.0116  Northern Metropolitan   \n4     1900.0  Yarra City Council  -37.8093    144.9944  Northern Metropolitan   \n\n  Propertycount  \n0        4019.0  \n1        4019.0  \n2        4019.0  \n3        4019.0  \n4        4019.0  \n\n[5 rows x 21 columns]",
                        "text/html": "<div>\n<style scoped>\n    .dataframe tbody tr th:only-of-type {\n        vertical-align: middle;\n    }\n\n    .dataframe tbody tr th {\n        vertical-align: top;\n    }\n\n    .dataframe thead th {\n        text-align: right;\n    }\n</style>\n<table border=\"1\" class=\"dataframe\">\n  <thead>\n    <tr style=\"text-align: right;\">\n      <th></th>\n      <th>Suburb</th>\n      <th>Address</th>\n      <th>Rooms</th>\n      <th>Type</th>\n      <th>Price</th>\n      <th>Method</th>\n      <th>SellerG</th>\n      <th>Date</th>\n      <th>Distance</th>\n      <th>Postcode</th>\n      <th>...</th>\n      <th>Bathroom</th>\n      <th>Car</th>\n      <th>Landsize</th>\n      <th>BuildingArea</th>\n      <th>YearBuilt</th>\n      <th>CouncilArea</th>\n      <th>Lattitude</th>\n      <th>Longtitude</th>\n      <th>Regionname</th>\n      <th>Propertycount</th>\n    </tr>\n  </thead>\n  <tbody>\n    <tr>\n      <th>0</th>\n      <td>Abbotsford</td>\n      <td>68 Studley St</td>\n      <td>2</td>\n      <td>h</td>\n      <td>NaN</td>\n      <td>SS</td>\n      <td>Jellis</td>\n      <td>3/09/2016</td>\n      <td>2.5</td>\n      <td>3067.0</td>\n      <td>...</td>\n      <td>1.0</td>\n      <td>1.0</td>\n      <td>126.0</td>\n      <td>NaN</td>\n      <td>NaN</td>\n      <td>Yarra City Council</td>\n      <td>-37.8014</td>\n      <td>144.9958</td>\n      <td>Northern Metropolitan</td>\n      <td>4019.0</td>\n    </tr>\n    <tr>\n      <th>1</th>\n      <td>Abbotsford</td>\n      <td>85 Turner St</td>\n      <td>2</td>\n      <td>h</td>\n      <td>1480000.0</td>\n      <td>S</td>\n      <td>Biggin</td>\n      <td>3/12/2016</td>\n      <td>2.5</td>\n      <td>3067.0</td>\n      <td>...</td>\n      <td>1.0</td>\n      <td>1.0</td>\n      <td>202.0</td>\n      <td>NaN</td>\n      <td>NaN</td>\n      <td>Yarra City Council</td>\n      <td>-37.7996</td>\n      <td>144.9984</td>\n      <td>Northern Metropolitan</td>\n      <td>4019.0</td>\n    </tr>\n    <tr>\n      <th>2</th>\n      <td>Abbotsford</td>\n      <td>25 Bloomburg St</td>\n      <td>2</td>\n      <td>h</td>\n      <td>1035000.0</td>\n      <td>S</td>\n      <td>Biggin</td>\n      <td>4/02/2016</td>\n      <td>2.5</td>\n      <td>3067.0</td>\n      <td>...</td>\n      <td>1.0</td>\n      <td>0.0</td>\n      <td>156.0</td>\n      <td>79.0</td>\n      <td>1900.0</td>\n      <td>Yarra City Council</td>\n      <td>-37.8079</td>\n      <td>144.9934</td>\n      <td>Northern Metropolitan</td>\n      <td>4019.0</td>\n    </tr>\n    <tr>\n      <th>3</th>\n      <td>Abbotsford</td>\n      <td>18/659 Victoria St</td>\n      <td>3</td>\n      <td>u</td>\n      <td>NaN</td>\n      <td>VB</td>\n      <td>Rounds</td>\n      <td>4/02/2016</td>\n      <td>2.5</td>\n      <td>3067.0</td>\n      <td>...</td>\n      <td>2.0</td>\n      <td>1.0</td>\n      <td>0.0</td>\n      <td>NaN</td>\n      <td>NaN</td>\n      <td>Yarra City Council</td>\n      <td>-37.8114</td>\n      <td>145.0116</td>\n      <td>Northern Metropolitan</td>\n      <td>4019.0</td>\n    </tr>\n    <tr>\n      <th>4</th>\n      <td>Abbotsford</td>\n      <td>5 Charles St</td>\n      <td>3</td>\n      <td>h</td>\n      <td>1465000.0</td>\n      <td>SP</td>\n      <td>Biggin</td>\n      <td>4/03/2017</td>\n      <td>2.5</td>\n      <td>3067.0</td>\n      <td>...</td>\n      <td>2.0</td>\n      <td>0.0</td>\n      <td>134.0</td>\n      <td>150.0</td>\n      <td>1900.0</td>\n      <td>Yarra City Council</td>\n      <td>-37.8093</td>\n      <td>144.9944</td>\n      <td>Northern Metropolitan</td>\n      <td>4019.0</td>\n    </tr>\n  </tbody>\n</table>\n<p>5 rows \u00d7 21 columns</p>\n</div>"
                    },
                    "metadata": {}
                }
            ]
        },
        {
            "metadata": {},
            "cell_type": "code",
            "source": "print('Number of houses: ', housing_df.shape[0])\nprint('Number of features in dataset: ', housing_df.shape[1])\nprint('Average price at: ${}'.format(round(housing_df.Price.mean())))\nprint('Number of suburbs: ',housing_df.Postcode.nunique())",
            "execution_count": 15,
            "outputs": [
                {
                    "output_type": "stream",
                    "text": "Number of houses:  34857\nNumber of features in dataset:  21\nAverage price at: $1050173\nNumber of suburbs:  211\n",
                    "name": "stdout"
                }
            ]
        },
        {
            "metadata": {},
            "cell_type": "code",
            "source": "",
            "execution_count": null,
            "outputs": []
        }
    ],
    "metadata": {
        "kernelspec": {
            "name": "python3",
            "display_name": "Python 3.6",
            "language": "python"
        },
        "language_info": {
            "name": "python",
            "version": "3.6.8",
            "mimetype": "text/x-python",
            "codemirror_mode": {
                "name": "ipython",
                "version": 3
            },
            "pygments_lexer": "ipython3",
            "nbconvert_exporter": "python",
            "file_extension": ".py"
        }
    },
    "nbformat": 4,
    "nbformat_minor": 4
}